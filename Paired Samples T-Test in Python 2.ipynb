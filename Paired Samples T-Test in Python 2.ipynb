{
 "cells": [
  {
   "cell_type": "markdown",
   "id": "bed5253a",
   "metadata": {},
   "source": [
    "### Import required libraries"
   ]
  },
  {
   "cell_type": "code",
   "execution_count": null,
   "id": "14fe0649",
   "metadata": {},
   "outputs": [],
   "source": [
    "from scipy.stats import ttest_1samp, ttest_ind, ttest_rel\n",
    "import pandas as pd\n",
    "import numpy as np\n",
    "from scipy import stats\n",
    "import statsmodels.api as sm\n",
    "from scipy.stats import norm"
   ]
  },
  {
   "cell_type": "markdown",
   "id": "24cc8c43",
   "metadata": {},
   "source": [
    "* Q. Let us consider that we want to know whether an engine oil significantly impacts the car’s mileage of different brands. In order to test this, we have 10 cars in a garage doped with original engine oil initially. We have noted their mileage for 100 kilometers each. Then, we have each of the cars doped with another engine oil (different from the original one). Then, the mileage of the cars is calculated for 100 kilometers each. To compare the difference between the mean mileage of the first and second test, we use a paired samples t-test because for each car their first test score can be paired with their second test score"
   ]
  },
  {
   "cell_type": "markdown",
   "id": "f01795af",
   "metadata": {},
   "source": [
    "* H0: The mean pre-test and post-test scores are equal\n",
    "* HA: The mean pre-test and post-test scores are not equal\n"
   ]
  },
  {
   "cell_type": "code",
   "execution_count": 2,
   "id": "7772b484",
   "metadata": {},
   "outputs": [],
   "source": [
    "# pre holds the mileage before \n",
    "# applying the different engine oil\n",
    "pre = [30, 31, 34, 40, 36, 35,\n",
    "       34, 30, 28, 29]\n",
    "  \n",
    "# post holds the mileage after \n",
    "# applying the different engine oil\n",
    "post = [30, 31, 32, 38, 32, 31,\n",
    "        32, 29, 28, 30]"
   ]
  },
  {
   "cell_type": "markdown",
   "id": "c3265736",
   "metadata": {},
   "source": [
    "### Performing the paired sample t-test\n"
   ]
  },
  {
   "cell_type": "code",
   "execution_count": 3,
   "id": "4f4283f5",
   "metadata": {},
   "outputs": [
    {
     "data": {
      "text/plain": [
       "Ttest_relResult(statistic=2.584921310565987, pvalue=0.029457853822895275)"
      ]
     },
     "execution_count": 3,
     "metadata": {},
     "output_type": "execute_result"
    }
   ],
   "source": [
    "stats.ttest_rel(pre, post)"
   ]
  },
  {
   "cell_type": "markdown",
   "id": "f17bbce7",
   "metadata": {},
   "source": [
    "* As the p-value comes out to be equal to 0.029 which is less than 0.05 hence we reject the null hypothesis. So, we have enough proof to claim that the true mean test score is different for cars before and after applying the different engine oil."
   ]
  },
  {
   "cell_type": "code",
   "execution_count": null,
   "id": "2e2b0b6b",
   "metadata": {},
   "outputs": [],
   "source": []
  }
 ],
 "metadata": {
  "kernelspec": {
   "display_name": "Python 3 (ipykernel)",
   "language": "python",
   "name": "python3"
  },
  "language_info": {
   "codemirror_mode": {
    "name": "ipython",
    "version": 3
   },
   "file_extension": ".py",
   "mimetype": "text/x-python",
   "name": "python",
   "nbconvert_exporter": "python",
   "pygments_lexer": "ipython3",
   "version": "3.9.12"
  }
 },
 "nbformat": 4,
 "nbformat_minor": 5
}

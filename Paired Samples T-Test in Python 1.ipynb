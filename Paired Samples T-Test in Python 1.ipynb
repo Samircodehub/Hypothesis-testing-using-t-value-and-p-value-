{
 "cells": [
  {
   "cell_type": "markdown",
   "id": "71e5b4e6",
   "metadata": {},
   "source": [
    "## Import required libraries"
   ]
  },
  {
   "cell_type": "code",
   "execution_count": 4,
   "id": "ac89a41e",
   "metadata": {},
   "outputs": [],
   "source": [
    "import scipy.stats as stats\n",
    "import seaborn as sns\n",
    "import pandas as pd\n",
    "import numpy as np"
   ]
  },
  {
   "cell_type": "markdown",
   "id": "18819216",
   "metadata": {},
   "source": [
    "### Create two sample list"
   ]
  },
  {
   "cell_type": "code",
   "execution_count": 10,
   "id": "10086891",
   "metadata": {},
   "outputs": [],
   "source": [
    "weight1=[25,30,28,35,28,34,26,29,30,26,28,32,31,30,45]"
   ]
  },
  {
   "cell_type": "code",
   "execution_count": 5,
   "id": "5503faf3",
   "metadata": {},
   "outputs": [],
   "source": [
    "weight2=weight1+stats.norm.rvs(scale=5,loc=-1.25,size=15)"
   ]
  },
  {
   "cell_type": "code",
   "execution_count": 11,
   "id": "6441a161",
   "metadata": {},
   "outputs": [
    {
     "name": "stdout",
     "output_type": "stream",
     "text": [
      "[25, 30, 28, 35, 28, 34, 26, 29, 30, 26, 28, 32, 31, 30, 45]\n"
     ]
    }
   ],
   "source": [
    "print(weight1)\n"
   ]
  },
  {
   "cell_type": "code",
   "execution_count": 12,
   "id": "ee852dd5",
   "metadata": {},
   "outputs": [
    {
     "name": "stdout",
     "output_type": "stream",
     "text": [
      "[25, 30, 28, 35, 28, 34, 26, 29, 30, 26, 28, 32, 31, 30, 45]\n"
     ]
    }
   ],
   "source": [
    "print(weight1)"
   ]
  },
  {
   "cell_type": "code",
   "execution_count": 13,
   "id": "6a3f10f0",
   "metadata": {},
   "outputs": [
    {
     "name": "stdout",
     "output_type": "stream",
     "text": [
      "[18.28074351 21.50020284 32.07180311 28.85515087 32.61159094 40.31899154\n",
      " 24.81255785 29.50686182 33.38098876 25.97213273 22.30242218 32.4617413\n",
      " 26.13518278 25.32946361 44.07476065]\n"
     ]
    }
   ],
   "source": [
    "print(weight2)"
   ]
  },
  {
   "cell_type": "markdown",
   "id": "4675c929",
   "metadata": {},
   "source": [
    "###  Load sample list into dataframe"
   ]
  },
  {
   "cell_type": "code",
   "execution_count": 14,
   "id": "0625cba6",
   "metadata": {},
   "outputs": [],
   "source": [
    "weight_df=pd.DataFrame({\"weight_10\":np.array(weight1),\n",
    "                         \"weight_20\":np.array(weight2),\n",
    "                       \"weight_change\":np.array(weight2)-np.array(weight1)})"
   ]
  },
  {
   "cell_type": "code",
   "execution_count": 15,
   "id": "f7228712",
   "metadata": {},
   "outputs": [
    {
     "data": {
      "text/html": [
       "<div>\n",
       "<style scoped>\n",
       "    .dataframe tbody tr th:only-of-type {\n",
       "        vertical-align: middle;\n",
       "    }\n",
       "\n",
       "    .dataframe tbody tr th {\n",
       "        vertical-align: top;\n",
       "    }\n",
       "\n",
       "    .dataframe thead th {\n",
       "        text-align: right;\n",
       "    }\n",
       "</style>\n",
       "<table border=\"1\" class=\"dataframe\">\n",
       "  <thead>\n",
       "    <tr style=\"text-align: right;\">\n",
       "      <th></th>\n",
       "      <th>weight_10</th>\n",
       "      <th>weight_20</th>\n",
       "      <th>weight_change</th>\n",
       "    </tr>\n",
       "  </thead>\n",
       "  <tbody>\n",
       "    <tr>\n",
       "      <th>0</th>\n",
       "      <td>25</td>\n",
       "      <td>18.280744</td>\n",
       "      <td>-6.719256</td>\n",
       "    </tr>\n",
       "    <tr>\n",
       "      <th>1</th>\n",
       "      <td>30</td>\n",
       "      <td>21.500203</td>\n",
       "      <td>-8.499797</td>\n",
       "    </tr>\n",
       "    <tr>\n",
       "      <th>2</th>\n",
       "      <td>28</td>\n",
       "      <td>32.071803</td>\n",
       "      <td>4.071803</td>\n",
       "    </tr>\n",
       "    <tr>\n",
       "      <th>3</th>\n",
       "      <td>35</td>\n",
       "      <td>28.855151</td>\n",
       "      <td>-6.144849</td>\n",
       "    </tr>\n",
       "    <tr>\n",
       "      <th>4</th>\n",
       "      <td>28</td>\n",
       "      <td>32.611591</td>\n",
       "      <td>4.611591</td>\n",
       "    </tr>\n",
       "    <tr>\n",
       "      <th>5</th>\n",
       "      <td>34</td>\n",
       "      <td>40.318992</td>\n",
       "      <td>6.318992</td>\n",
       "    </tr>\n",
       "    <tr>\n",
       "      <th>6</th>\n",
       "      <td>26</td>\n",
       "      <td>24.812558</td>\n",
       "      <td>-1.187442</td>\n",
       "    </tr>\n",
       "    <tr>\n",
       "      <th>7</th>\n",
       "      <td>29</td>\n",
       "      <td>29.506862</td>\n",
       "      <td>0.506862</td>\n",
       "    </tr>\n",
       "    <tr>\n",
       "      <th>8</th>\n",
       "      <td>30</td>\n",
       "      <td>33.380989</td>\n",
       "      <td>3.380989</td>\n",
       "    </tr>\n",
       "    <tr>\n",
       "      <th>9</th>\n",
       "      <td>26</td>\n",
       "      <td>25.972133</td>\n",
       "      <td>-0.027867</td>\n",
       "    </tr>\n",
       "    <tr>\n",
       "      <th>10</th>\n",
       "      <td>28</td>\n",
       "      <td>22.302422</td>\n",
       "      <td>-5.697578</td>\n",
       "    </tr>\n",
       "    <tr>\n",
       "      <th>11</th>\n",
       "      <td>32</td>\n",
       "      <td>32.461741</td>\n",
       "      <td>0.461741</td>\n",
       "    </tr>\n",
       "    <tr>\n",
       "      <th>12</th>\n",
       "      <td>31</td>\n",
       "      <td>26.135183</td>\n",
       "      <td>-4.864817</td>\n",
       "    </tr>\n",
       "    <tr>\n",
       "      <th>13</th>\n",
       "      <td>30</td>\n",
       "      <td>25.329464</td>\n",
       "      <td>-4.670536</td>\n",
       "    </tr>\n",
       "    <tr>\n",
       "      <th>14</th>\n",
       "      <td>45</td>\n",
       "      <td>44.074761</td>\n",
       "      <td>-0.925239</td>\n",
       "    </tr>\n",
       "  </tbody>\n",
       "</table>\n",
       "</div>"
      ],
      "text/plain": [
       "    weight_10  weight_20  weight_change\n",
       "0          25  18.280744      -6.719256\n",
       "1          30  21.500203      -8.499797\n",
       "2          28  32.071803       4.071803\n",
       "3          35  28.855151      -6.144849\n",
       "4          28  32.611591       4.611591\n",
       "5          34  40.318992       6.318992\n",
       "6          26  24.812558      -1.187442\n",
       "7          29  29.506862       0.506862\n",
       "8          30  33.380989       3.380989\n",
       "9          26  25.972133      -0.027867\n",
       "10         28  22.302422      -5.697578\n",
       "11         32  32.461741       0.461741\n",
       "12         31  26.135183      -4.864817\n",
       "13         30  25.329464      -4.670536\n",
       "14         45  44.074761      -0.925239"
      ]
     },
     "execution_count": 15,
     "metadata": {},
     "output_type": "execute_result"
    }
   ],
   "source": [
    "weight_df"
   ]
  },
  {
   "cell_type": "markdown",
   "id": "c8592447",
   "metadata": {},
   "source": [
    "### Perform t test"
   ]
  },
  {
   "cell_type": "code",
   "execution_count": 16,
   "id": "764c24d5",
   "metadata": {},
   "outputs": [],
   "source": [
    "_,p_value=stats.ttest_rel(a=weight1,b=weight2)"
   ]
  },
  {
   "cell_type": "code",
   "execution_count": 17,
   "id": "a8388aaf",
   "metadata": {},
   "outputs": [
    {
     "name": "stdout",
     "output_type": "stream",
     "text": [
      "0.2978436108562571\n"
     ]
    }
   ],
   "source": [
    "print(p_value)"
   ]
  },
  {
   "cell_type": "markdown",
   "id": "9c4abd71",
   "metadata": {},
   "source": [
    "### Analyse result by comparing p value with alpha"
   ]
  },
  {
   "cell_type": "code",
   "execution_count": 18,
   "id": "478a96e1",
   "metadata": {},
   "outputs": [
    {
     "name": "stdout",
     "output_type": "stream",
     "text": [
      "we are accepting null hypothesis\n"
     ]
    }
   ],
   "source": [
    "if p_value < 0.05:    # alpha value is 0.05 or 5%\n",
    "    print(\" we are rejecting null hypothesis\")\n",
    "else:\n",
    "    print(\"we are accepting null hypothesis\")"
   ]
  },
  {
   "cell_type": "code",
   "execution_count": null,
   "id": "c4d49274",
   "metadata": {},
   "outputs": [],
   "source": []
  }
 ],
 "metadata": {
  "kernelspec": {
   "display_name": "Python 3 (ipykernel)",
   "language": "python",
   "name": "python3"
  },
  "language_info": {
   "codemirror_mode": {
    "name": "ipython",
    "version": 3
   },
   "file_extension": ".py",
   "mimetype": "text/x-python",
   "name": "python",
   "nbconvert_exporter": "python",
   "pygments_lexer": "ipython3",
   "version": "3.9.12"
  }
 },
 "nbformat": 4,
 "nbformat_minor": 5
}
